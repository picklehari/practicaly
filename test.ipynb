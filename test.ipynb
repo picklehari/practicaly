{
 "cells": [
  {
   "cell_type": "markdown",
   "metadata": {},
   "source": [
    "# Importing Model and APIs"
   ]
  },
  {
   "cell_type": "code",
   "execution_count": 44,
   "metadata": {},
   "outputs": [],
   "source": [
    "from utilities import fetch_data\n",
    "from dotenv import dotenv_values\n",
    "import openai \n",
    "from tqdm import tqdm\n",
    "from utilities import fetch_data\n",
    "from sklearn.cluster import MeanShift\n",
    "import numpy\n",
    "from markdown_pdf import MarkdownPdf,Section\n",
    "variables = dotenv_values(\".env\")\n",
    "gen_model = \"mistral-large-latest\"\n",
    "embedding_model = \"mistral-embed\""
   ]
  },
  {
   "cell_type": "code",
   "execution_count": 3,
   "metadata": {},
   "outputs": [],
   "source": [
    "import mistralai.client\n",
    "\n",
    "openai.api_key = variables[\"OPENAI_API_KEY\"] #For video support\n",
    "content = variables[\"CONTENT\"]\n",
    "content_type = variables[\"CONTENT_TYPE\"]\n",
    "\n",
    "client = mistralai.client.MistralClient(api_key=variables[\"MISTRAL_API_KEY\"])"
   ]
  },
  {
   "cell_type": "markdown",
   "metadata": {},
   "source": [
    "# Prompts"
   ]
  },
  {
   "cell_type": "code",
   "execution_count": 24,
   "metadata": {},
   "outputs": [],
   "source": [
    "topic_prompt = '''\n",
    "Given the following excrepts compiled from textbooks and lecture transcripts on a subject.\n",
    "\n",
    "{content}\n",
    "\n",
    "Identify core topics discussed and provide them an importance score.\n",
    "'''\n",
    "\n",
    "content_prompt = '''\n",
    "Given the following excrepts compiled from textbooks and lecture transcripts on a subject.\n",
    "\n",
    "{content}\n",
    "\n",
    "Clean the contents and make a comprehensive lecture notes on the topics being covered. Stick to the contents\n",
    "'''\n",
    "\n",
    "question_prompt = ''' \n",
    "Given the following lecture notes.\n",
    "\n",
    "<lecture_notes>\n",
    "{lecture_notes}\n",
    "</lecture_notes>\n",
    "\n",
    "Topic importance of each topic discussed in the lecture is given below.\n",
    "\n",
    "<topic importance>\n",
    "{topic_imp}\n",
    "<topic importance>\n",
    "You are a Teacher tasked with setting up a large number of questions for an upcoming examination. The number of questions per topic should depend upon the topic importance.\n",
    "The questions should include conceptual, reasoning and application level questions. Do not generate answers. Generate questions and not a question distribution\n",
    "'''"
   ]
  },
  {
   "cell_type": "code",
   "execution_count": 18,
   "metadata": {},
   "outputs": [],
   "source": [
    "def get_embedding(text):\n",
    "   return client.embeddings(model=embedding_model,input=[text]).data[0].embedding\n"
   ]
  },
  {
   "cell_type": "code",
   "execution_count": 34,
   "metadata": {},
   "outputs": [],
   "source": [
    "def syllabus(content_clusters):\n",
    "  labels = set(content_clusters.values())\n",
    "  syllabus_list = []\n",
    "  for label in tqdm(labels):\n",
    "    content = \"\\n\".join([ct for ct,lb in content_clusters.items() if lb == label])\n",
    "    topic_response = client.chat(model=gen_model,messages=[mistralai.models.chat_completion.ChatMessage(role=\"user\", content=topic_prompt.replace(\"{content}\",content))]).choices[0].message.content\n",
    "    content_response = client.chat(model=gen_model,messages=[mistralai.models.chat_completion.ChatMessage(role=\"user\", content=content_prompt.replace(\"{content}\",content))]).choices[0].message.content\n",
    "    syllabus_list.append((topic_response,content_response))\n",
    "  return syllabus_list"
   ]
  },
  {
   "cell_type": "code",
   "execution_count": 38,
   "metadata": {},
   "outputs": [],
   "source": [
    "def generate_questions(content_tuple):\n",
    "    content_dict ={\"Lecture Note\":content_tuple[1],\"Topic Importance\": content_tuple[0]}\n",
    "    \n",
    "    question_content = client.chat(model=gen_model,messages=[mistralai.models.chat_completion.ChatMessage(role=\"user\", content=question_prompt.replace(\"{lecture_notes}\",content_tuple[1]).replace(\"{topic_imp}\",content_tuple[0]))]).choices[0].message.content\n",
    "\n",
    "    content_dict[\"Question Paper\"] = question_content\n",
    "    return content_dict"
   ]
  },
  {
   "cell_type": "code",
   "execution_count": 39,
   "metadata": {},
   "outputs": [],
   "source": [
    "content_text = fetch_data.fetch_input(content,content_type)\n",
    "content_text = [ct for ct in tqdm(content_text) if ct.replace(\"\\n\",\"\").replace(\" \",\"\") != \"\"]\n",
    "content_embedding = [get_embedding(ct) for ct in tqdm(content_text)]\n",
    "content_embedding = numpy.array(content_embedding)\n",
    "clusters = MeanShift().fit(content_embedding)\n",
    "content_clusters = dict(zip(content_text,clusters.labels_))\n",
    "content_model = syllabus(content_clusters)\n",
    "content_dict = [generate_questions(ct) for ct in content_model]"
   ]
  },
  {
   "cell_type": "code",
   "execution_count": 62,
   "metadata": {},
   "outputs": [],
   "source": [
    "def write_chapters(content_dict:dict, out_path:str) -> str:\n",
    "    out_pdf = MarkdownPdf()\n",
    "    out_content = \"\"  # Initialize out_content variable\n",
    "    out_pdf.add_section(Section(\"# \" + content.split(\"/\")[-1].split(\".\")[0] + \"\\n\"))\n",
    "    for cd in content_dict:\n",
    "        out_content += \"## Section 01\\n\"\n",
    "        out_content += \"### Topics Discussed\\n\"\n",
    "        out_content += cd[\"Topic Importance\"] + \"\\n\"\n",
    "        out_content += \"### Notes\\n\"\n",
    "        out_content += cd[\"Lecture Note\"] + \"\\n\"\n",
    "        out_content += \"### Sample Questions\\n\"\n",
    "        out_content += cd[\"Question Paper\"] + \"\\n\\n\"\n",
    "    out_pdf.add_section(Section(out_content))\n",
    "    out_pdf.save(out_path)\n"
   ]
  },
  {
   "cell_type": "code",
   "execution_count": 63,
   "metadata": {},
   "outputs": [],
   "source": []
  },
  {
   "cell_type": "code",
   "execution_count": null,
   "metadata": {},
   "outputs": [],
   "source": []
  }
 ],
 "metadata": {
  "kernelspec": {
   "display_name": "Python 3",
   "language": "python",
   "name": "python3"
  },
  "language_info": {
   "codemirror_mode": {
    "name": "ipython",
    "version": 3
   },
   "file_extension": ".py",
   "mimetype": "text/x-python",
   "name": "python",
   "nbconvert_exporter": "python",
   "pygments_lexer": "ipython3",
   "version": "3.11.4"
  },
  "orig_nbformat": 4
 },
 "nbformat": 4,
 "nbformat_minor": 2
}
